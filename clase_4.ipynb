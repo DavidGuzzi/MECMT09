{
 "cells": [
  {
   "cell_type": "code",
   "execution_count": 1,
   "id": "7827c673",
   "metadata": {},
   "outputs": [
    {
     "data": {
      "text/html": [
       "<div>\n",
       "<style scoped>\n",
       "    .dataframe tbody tr th:only-of-type {\n",
       "        vertical-align: middle;\n",
       "    }\n",
       "\n",
       "    .dataframe tbody tr th {\n",
       "        vertical-align: top;\n",
       "    }\n",
       "\n",
       "    .dataframe thead th {\n",
       "        text-align: right;\n",
       "    }\n",
       "</style>\n",
       "<table border=\"1\" class=\"dataframe\">\n",
       "  <thead>\n",
       "    <tr style=\"text-align: right;\">\n",
       "      <th></th>\n",
       "      <th>id</th>\n",
       "      <th>state</th>\n",
       "      <th>year</th>\n",
       "      <th>mrdrte</th>\n",
       "      <th>exec</th>\n",
       "      <th>unem</th>\n",
       "      <th>d90</th>\n",
       "      <th>d93</th>\n",
       "      <th>cmrdrte</th>\n",
       "      <th>cexec</th>\n",
       "      <th>cunem</th>\n",
       "      <th>cexec_1</th>\n",
       "      <th>cunem_1</th>\n",
       "    </tr>\n",
       "  </thead>\n",
       "  <tbody>\n",
       "    <tr>\n",
       "      <th>0</th>\n",
       "      <td>2</td>\n",
       "      <td>AL</td>\n",
       "      <td>87.0</td>\n",
       "      <td>9.3</td>\n",
       "      <td>2.0</td>\n",
       "      <td>7.8</td>\n",
       "      <td>0.0</td>\n",
       "      <td>0.0</td>\n",
       "      <td>NaN</td>\n",
       "      <td>NaN</td>\n",
       "      <td>NaN</td>\n",
       "      <td>NaN</td>\n",
       "      <td>NaN</td>\n",
       "    </tr>\n",
       "  </tbody>\n",
       "</table>\n",
       "</div>"
      ],
      "text/plain": [
       "   id state  year  mrdrte  exec  unem  d90  d93  cmrdrte  cexec  cunem  \\\n",
       "0   2    AL  87.0     9.3   2.0   7.8  0.0  0.0      NaN    NaN    NaN   \n",
       "\n",
       "   cexec_1  cunem_1  \n",
       "0      NaN      NaN  "
      ]
     },
     "execution_count": 1,
     "metadata": {},
     "output_type": "execute_result"
    }
   ],
   "source": [
    "import pandas as pd\n",
    "pd.set_option('display.max_columns', None)\n",
    "import pyreadstat as st\n",
    "import numpy as np\n",
    "import matplotlib.pyplot as plt\n",
    "\n",
    "\n",
    "path = r\"C:\\Users\\HP\\OneDrive\\Escritorio\\David Guzzi\\DiTella\\MEC\\Materias\\2025\\2025 1T\\[MT09] Econometría de Datos de Panel\\Clases prácticas\\PS 2-20250525\\data\\murder.dta\"\n",
    "\n",
    "df, meta = st.read_dta(path)\n",
    "df.head(1)"
   ]
  },
  {
   "cell_type": "code",
   "execution_count": 2,
   "id": "f4c0fc37",
   "metadata": {},
   "outputs": [
    {
     "name": "stdout",
     "output_type": "stream",
     "text": [
      "<class 'pandas.core.frame.DataFrame'>\n",
      "RangeIndex: 153 entries, 0 to 152\n",
      "Data columns (total 13 columns):\n",
      " #   Column   Non-Null Count  Dtype  \n",
      "---  ------   --------------  -----  \n",
      " 0   id       153 non-null    int64  \n",
      " 1   state    153 non-null    object \n",
      " 2   year     153 non-null    float64\n",
      " 3   mrdrte   153 non-null    float64\n",
      " 4   exec     153 non-null    float64\n",
      " 5   unem     153 non-null    float64\n",
      " 6   d90      153 non-null    float64\n",
      " 7   d93      153 non-null    float64\n",
      " 8   cmrdrte  102 non-null    float64\n",
      " 9   cexec    102 non-null    float64\n",
      " 10  cunem    102 non-null    float64\n",
      " 11  cexec_1  51 non-null     float64\n",
      " 12  cunem_1  51 non-null     float64\n",
      "dtypes: float64(11), int64(1), object(1)\n",
      "memory usage: 15.7+ KB\n"
     ]
    }
   ],
   "source": [
    "df.info()"
   ]
  },
  {
   "cell_type": "code",
   "execution_count": 4,
   "id": "c3181743",
   "metadata": {},
   "outputs": [
    {
     "name": "stdout",
     "output_type": "stream",
     "text": [
      "                            OLS Regression Results                            \n",
      "==============================================================================\n",
      "Dep. Variable:                 mrdrte   R-squared:                       0.076\n",
      "Model:                            OLS   Adj. R-squared:                  0.051\n",
      "Method:                 Least Squares   F-statistic:                     3.047\n",
      "Date:                Mon, 26 May 2025   Prob (F-statistic):             0.0190\n",
      "Time:                        20:25:50   Log-Likelihood:                -549.96\n",
      "No. Observations:                 153   AIC:                             1110.\n",
      "Df Residuals:                     148   BIC:                             1125.\n",
      "Df Model:                           4                                         \n",
      "Covariance Type:            nonrobust                                         \n",
      "===================================================================================\n",
      "                      coef    std err          t      P>|t|      [0.025      0.975]\n",
      "-----------------------------------------------------------------------------------\n",
      "Intercept          -1.8644      3.070     -0.607      0.545      -7.930       4.201\n",
      "C(year)[T.90.0]     2.6753      1.817      1.472      0.143      -0.915       6.266\n",
      "C(year)[T.93.0]     1.6073      1.775      0.906      0.367      -1.900       5.114\n",
      "exec                0.1628      0.194      0.839      0.403      -0.220       0.546\n",
      "unem                1.3908      0.451      3.085      0.002       0.500       2.282\n",
      "==============================================================================\n",
      "Omnibus:                      220.139   Durbin-Watson:                   0.698\n",
      "Prob(Omnibus):                  0.000   Jarque-Bera (JB):            12528.591\n",
      "Skew:                           6.053   Prob(JB):                         0.00\n",
      "Kurtosis:                      45.647   Cond. No.                         29.9\n",
      "==============================================================================\n",
      "\n",
      "Notes:\n",
      "[1] Standard Errors assume that the covariance matrix of the errors is correctly specified.\n"
     ]
    }
   ],
   "source": [
    "import statsmodels.api as sm\n",
    "import statsmodels.formula.api as smf\n",
    "\n",
    "# Usamos patsy y statsmodels con fórmula\n",
    "model = smf.ols('mrdrte ~ exec + unem + C(year)', data=df).fit()\n",
    "print(model.summary())"
   ]
  },
  {
   "cell_type": "code",
   "execution_count": null,
   "id": "4c8b8078",
   "metadata": {},
   "outputs": [],
   "source": []
  }
 ],
 "metadata": {
  "kernelspec": {
   "display_name": "Python 3",
   "language": "python",
   "name": "python3"
  },
  "language_info": {
   "codemirror_mode": {
    "name": "ipython",
    "version": 3
   },
   "file_extension": ".py",
   "mimetype": "text/x-python",
   "name": "python",
   "nbconvert_exporter": "python",
   "pygments_lexer": "ipython3",
   "version": "3.12.2"
  }
 },
 "nbformat": 4,
 "nbformat_minor": 5
}
