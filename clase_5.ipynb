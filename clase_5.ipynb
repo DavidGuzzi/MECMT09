{
 "cells": [
  {
   "cell_type": "code",
   "execution_count": 2,
   "id": "18c4075c",
   "metadata": {},
   "outputs": [
    {
     "data": {
      "text/html": [
       "<div>\n",
       "<style scoped>\n",
       "    .dataframe tbody tr th:only-of-type {\n",
       "        vertical-align: middle;\n",
       "    }\n",
       "\n",
       "    .dataframe tbody tr th {\n",
       "        vertical-align: top;\n",
       "    }\n",
       "\n",
       "    .dataframe thead th {\n",
       "        text-align: right;\n",
       "    }\n",
       "</style>\n",
       "<table border=\"1\" class=\"dataframe\">\n",
       "  <thead>\n",
       "    <tr style=\"text-align: right;\">\n",
       "      <th></th>\n",
       "      <th>c1</th>\n",
       "      <th>ind</th>\n",
       "      <th>year</th>\n",
       "      <th>emp</th>\n",
       "      <th>wage</th>\n",
       "      <th>cap</th>\n",
       "      <th>indoutpt</th>\n",
       "      <th>n</th>\n",
       "      <th>w</th>\n",
       "      <th>k</th>\n",
       "      <th>ys</th>\n",
       "      <th>rec</th>\n",
       "      <th>yearm1</th>\n",
       "      <th>id</th>\n",
       "      <th>nL1</th>\n",
       "      <th>nL2</th>\n",
       "      <th>wL1</th>\n",
       "      <th>kL1</th>\n",
       "      <th>kL2</th>\n",
       "      <th>ysL1</th>\n",
       "      <th>ysL2</th>\n",
       "      <th>yr1977</th>\n",
       "      <th>yr1978</th>\n",
       "      <th>yr1979</th>\n",
       "      <th>yr1980</th>\n",
       "      <th>yr1981</th>\n",
       "      <th>yr1982</th>\n",
       "    </tr>\n",
       "  </thead>\n",
       "  <tbody>\n",
       "    <tr>\n",
       "      <th>0</th>\n",
       "      <td>1-1</td>\n",
       "      <td>7.0</td>\n",
       "      <td>1977.0</td>\n",
       "      <td>5.041</td>\n",
       "      <td>13.1516</td>\n",
       "      <td>0.5894</td>\n",
       "      <td>95.707199</td>\n",
       "      <td>1.617604</td>\n",
       "      <td>2.576543</td>\n",
       "      <td>-0.52865</td>\n",
       "      <td>4.561294</td>\n",
       "      <td>1.0</td>\n",
       "      <td>1977.0</td>\n",
       "      <td>1.0</td>\n",
       "      <td>NaN</td>\n",
       "      <td>NaN</td>\n",
       "      <td>NaN</td>\n",
       "      <td>NaN</td>\n",
       "      <td>NaN</td>\n",
       "      <td>NaN</td>\n",
       "      <td>NaN</td>\n",
       "      <td>1</td>\n",
       "      <td>0</td>\n",
       "      <td>0</td>\n",
       "      <td>0</td>\n",
       "      <td>0</td>\n",
       "      <td>0</td>\n",
       "    </tr>\n",
       "  </tbody>\n",
       "</table>\n",
       "</div>"
      ],
      "text/plain": [
       "    c1  ind    year    emp     wage     cap   indoutpt         n         w  \\\n",
       "0  1-1  7.0  1977.0  5.041  13.1516  0.5894  95.707199  1.617604  2.576543   \n",
       "\n",
       "         k        ys  rec  yearm1   id  nL1  nL2  wL1  kL1  kL2  ysL1  ysL2  \\\n",
       "0 -0.52865  4.561294  1.0  1977.0  1.0  NaN  NaN  NaN  NaN  NaN   NaN   NaN   \n",
       "\n",
       "   yr1977  yr1978  yr1979  yr1980  yr1981  yr1982  \n",
       "0       1       0       0       0       0       0  "
      ]
     },
     "execution_count": 2,
     "metadata": {},
     "output_type": "execute_result"
    }
   ],
   "source": [
    "import pandas as pd\n",
    "pd.set_option('display.max_columns', None)\n",
    "import pyreadstat as st\n",
    "import numpy as np\n",
    "import matplotlib.pyplot as plt\n",
    "\n",
    "\n",
    "path = r\"C:\\Users\\HP\\OneDrive\\Escritorio\\David Guzzi\\DiTella\\MEC\\Materias\\2025\\2025 1T\\[MT09] Econometría de Datos de Panel\\Clases prácticas\\PS 3-20250531\\data\\mod_abdata.dta\"\n",
    "\n",
    "df, meta = st.read_dta(path)\n",
    "df.head(1)"
   ]
  },
  {
   "cell_type": "code",
   "execution_count": 3,
   "id": "9ca09837",
   "metadata": {},
   "outputs": [
    {
     "name": "stdout",
     "output_type": "stream",
     "text": [
      "<class 'pandas.core.frame.DataFrame'>\n",
      "RangeIndex: 828 entries, 0 to 827\n",
      "Data columns (total 27 columns):\n",
      " #   Column    Non-Null Count  Dtype  \n",
      "---  ------    --------------  -----  \n",
      " 0   c1        828 non-null    object \n",
      " 1   ind       828 non-null    float64\n",
      " 2   year      828 non-null    float64\n",
      " 3   emp       828 non-null    float64\n",
      " 4   wage      828 non-null    float64\n",
      " 5   cap       828 non-null    float64\n",
      " 6   indoutpt  828 non-null    float64\n",
      " 7   n         828 non-null    float64\n",
      " 8   w         828 non-null    float64\n",
      " 9   k         828 non-null    float64\n",
      " 10  ys        828 non-null    float64\n",
      " 11  rec       828 non-null    float64\n",
      " 12  yearm1    828 non-null    float64\n",
      " 13  id        828 non-null    float64\n",
      " 14  nL1       770 non-null    float64\n",
      " 15  nL2       632 non-null    float64\n",
      " 16  wL1       770 non-null    float64\n",
      " 17  kL1       770 non-null    float64\n",
      " 18  kL2       632 non-null    float64\n",
      " 19  ysL1      770 non-null    float64\n",
      " 20  ysL2      632 non-null    float64\n",
      " 21  yr1977    828 non-null    int64  \n",
      " 22  yr1978    828 non-null    int64  \n",
      " 23  yr1979    828 non-null    int64  \n",
      " 24  yr1980    828 non-null    int64  \n",
      " 25  yr1981    828 non-null    int64  \n",
      " 26  yr1982    828 non-null    int64  \n",
      "dtypes: float64(20), int64(6), object(1)\n",
      "memory usage: 174.8+ KB\n"
     ]
    }
   ],
   "source": [
    "df.info()"
   ]
  },
  {
   "cell_type": "code",
   "execution_count": 5,
   "id": "495f4bde",
   "metadata": {},
   "outputs": [
    {
     "name": "stdout",
     "output_type": "stream",
     "text": [
      "                            OLS Regression Results                            \n",
      "==============================================================================\n",
      "Dep. Variable:                      n   R-squared:                       0.990\n",
      "Model:                            OLS   Adj. R-squared:                  0.990\n",
      "Method:                 Least Squares   F-statistic:                 7.654e+04\n",
      "Date:                Sat, 31 May 2025   Prob (F-statistic):               0.00\n",
      "Time:                        21:05:54   Log-Likelihood:                 450.02\n",
      "No. Observations:                 770   AIC:                            -896.0\n",
      "Df Residuals:                     768   BIC:                            -886.8\n",
      "Df Model:                           1                                         \n",
      "Covariance Type:            nonrobust                                         \n",
      "==============================================================================\n",
      "                 coef    std err          t      P>|t|      [0.025      0.975]\n",
      "------------------------------------------------------------------------------\n",
      "const         -0.0379      0.006     -5.948      0.000      -0.050      -0.025\n",
      "nL1            0.9967      0.004    276.662      0.000       0.990       1.004\n",
      "==============================================================================\n",
      "Omnibus:                      182.474   Durbin-Watson:                   1.584\n",
      "Prob(Omnibus):                  0.000   Jarque-Bera (JB):             3694.346\n",
      "Skew:                          -0.512   Prob(JB):                         0.00\n",
      "Kurtosis:                      13.682   Cond. No.                         2.69\n",
      "==============================================================================\n",
      "\n",
      "Notes:\n",
      "[1] Standard Errors assume that the covariance matrix of the errors is correctly specified.\n"
     ]
    }
   ],
   "source": [
    "df_reg = df.sort_values(['id', 'year'])\n",
    "df_reg.dropna(subset=['n', 'nL1'], inplace=True)\n",
    "\n",
    "import statsmodels.api as sm\n",
    "\n",
    "# Variables\n",
    "X = sm.add_constant(df_reg['nL1'])\n",
    "y = df_reg['n']\n",
    "\n",
    "# Estimar el modelo\n",
    "model = sm.OLS(y, X).fit()\n",
    "print(model.summary())"
   ]
  },
  {
   "cell_type": "code",
   "execution_count": 8,
   "id": "9ba5c25d",
   "metadata": {},
   "outputs": [
    {
     "name": "stdout",
     "output_type": "stream",
     "text": [
      "\n",
      "=========================\n",
      "                   t1    \n",
      "-------------------------\n",
      "const          -0.0379***\n",
      "               (0.0064)  \n",
      "nL1            0.9967*** \n",
      "               (0.0036)  \n",
      "R-squared      0.9901    \n",
      "R-squared Adj. 0.9901    \n",
      "R-squared      0.990     \n",
      "=========================\n",
      "Standard errors in\n",
      "parentheses.\n",
      "* p<.1, ** p<.05,\n",
      "***p<.01\n"
     ]
    }
   ],
   "source": [
    "from statsmodels.iolib.summary2 import summary_col\n",
    "\n",
    "# Imprimir estilo compacto\n",
    "print(summary_col([model], stars=True, model_names=['t1'], info_dict={'R-squared': lambda x: f\"{x.rsquared:.3f}\"}))"
   ]
  },
  {
   "cell_type": "code",
   "execution_count": null,
   "id": "5f92583f",
   "metadata": {},
   "outputs": [],
   "source": []
  }
 ],
 "metadata": {
  "kernelspec": {
   "display_name": "Python 3",
   "language": "python",
   "name": "python3"
  },
  "language_info": {
   "codemirror_mode": {
    "name": "ipython",
    "version": 3
   },
   "file_extension": ".py",
   "mimetype": "text/x-python",
   "name": "python",
   "nbconvert_exporter": "python",
   "pygments_lexer": "ipython3",
   "version": "3.12.2"
  }
 },
 "nbformat": 4,
 "nbformat_minor": 5
}
