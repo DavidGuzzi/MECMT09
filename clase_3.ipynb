{
 "cells": [
  {
   "cell_type": "code",
   "execution_count": 2,
   "id": "f5e9888d",
   "metadata": {},
   "outputs": [
    {
     "data": {
      "text/html": [
       "<div>\n",
       "<style scoped>\n",
       "    .dataframe tbody tr th:only-of-type {\n",
       "        vertical-align: middle;\n",
       "    }\n",
       "\n",
       "    .dataframe tbody tr th {\n",
       "        vertical-align: top;\n",
       "    }\n",
       "\n",
       "    .dataframe thead th {\n",
       "        text-align: right;\n",
       "    }\n",
       "</style>\n",
       "<table border=\"1\" class=\"dataframe\">\n",
       "  <thead>\n",
       "    <tr style=\"text-align: right;\">\n",
       "      <th></th>\n",
       "      <th>id</th>\n",
       "      <th>year</th>\n",
       "      <th>c</th>\n",
       "      <th>q</th>\n",
       "      <th>pf</th>\n",
       "      <th>lf</th>\n",
       "    </tr>\n",
       "  </thead>\n",
       "  <tbody>\n",
       "    <tr>\n",
       "      <th>0</th>\n",
       "      <td>1</td>\n",
       "      <td>1970</td>\n",
       "      <td>1140640</td>\n",
       "      <td>0.952757</td>\n",
       "      <td>106650</td>\n",
       "      <td>0.534487</td>\n",
       "    </tr>\n",
       "  </tbody>\n",
       "</table>\n",
       "</div>"
      ],
      "text/plain": [
       "   id  year        c         q      pf        lf\n",
       "0   1  1970  1140640  0.952757  106650  0.534487"
      ]
     },
     "execution_count": 2,
     "metadata": {},
     "output_type": "execute_result"
    }
   ],
   "source": [
    "import pandas as pd\n",
    "pd.set_option('display.max_columns', None)\n",
    "import pyreadstat as st\n",
    "import numpy as np\n",
    "import matplotlib.pyplot as plt\n",
    "\n",
    "\n",
    "path = r\"C:\\Users\\HP\\OneDrive\\Escritorio\\David Guzzi\\DiTella\\MEC\\Materias\\2025\\2025 1T\\[MT09] Econometría de Datos de Panel\\Clases prácticas\\PS 1-20250507\\data\\greene97.dta\"\n",
    "\n",
    "df, meta = st.read_dta(path)\n",
    "df.head(1)"
   ]
  },
  {
   "cell_type": "code",
   "execution_count": 5,
   "id": "61090b0b",
   "metadata": {},
   "outputs": [
    {
     "name": "stdout",
     "output_type": "stream",
     "text": [
      "<class 'pandas.core.frame.DataFrame'>\n",
      "RangeIndex: 90 entries, 0 to 89\n",
      "Data columns (total 6 columns):\n",
      " #   Column  Non-Null Count  Dtype  \n",
      "---  ------  --------------  -----  \n",
      " 0   id      90 non-null     int64  \n",
      " 1   year    90 non-null     int64  \n",
      " 2   c       90 non-null     int64  \n",
      " 3   q       90 non-null     float64\n",
      " 4   pf      90 non-null     int64  \n",
      " 5   lf      90 non-null     float64\n",
      "dtypes: float64(2), int64(4)\n",
      "memory usage: 4.3 KB\n"
     ]
    }
   ],
   "source": [
    "df.info()"
   ]
  },
  {
   "cell_type": "code",
   "execution_count": null,
   "id": "4d7683b7",
   "metadata": {},
   "outputs": [
    {
     "name": "stdout",
     "output_type": "stream",
     "text": [
      "                            OLS Regression Results                            \n",
      "==============================================================================\n",
      "Dep. Variable:                    lnc   R-squared:                       0.997\n",
      "Model:                            OLS   Adj. R-squared:                  0.997\n",
      "Method:                 Least Squares   F-statistic:                     3936.\n",
      "Date:                Sun, 25 May 2025   Prob (F-statistic):          1.51e-101\n",
      "Time:                        16:46:17   Log-Likelihood:                 130.09\n",
      "No. Observations:                  90   AIC:                            -242.2\n",
      "Df Residuals:                      81   BIC:                            -219.7\n",
      "Df Model:                           8                                         \n",
      "Covariance Type:            nonrobust                                         \n",
      "==============================================================================\n",
      "                 coef    std err          t      P>|t|      [0.025      0.975]\n",
      "------------------------------------------------------------------------------\n",
      "Intercept      9.7059      0.193     50.258      0.000       9.322      10.090\n",
      "C(id)[T.2]    -0.0412      0.025     -1.637      0.105      -0.091       0.009\n",
      "C(id)[T.3]    -0.2089      0.043     -4.881      0.000      -0.294      -0.124\n",
      "C(id)[T.4]     0.1846      0.061      3.038      0.003       0.064       0.305\n",
      "C(id)[T.5]     0.0241      0.080      0.301      0.764      -0.135       0.183\n",
      "C(id)[T.6]     0.0871      0.084      1.034      0.304      -0.080       0.255\n",
      "lnq            0.9193      0.030     30.756      0.000       0.860       0.979\n",
      "lf            -1.0704      0.202     -5.307      0.000      -1.472      -0.669\n",
      "lnpf           0.4175      0.015     27.468      0.000       0.387       0.448\n",
      "==============================================================================\n",
      "Omnibus:                        3.428   Durbin-Watson:                   1.026\n",
      "Prob(Omnibus):                  0.180   Jarque-Bera (JB):                2.719\n",
      "Skew:                           0.343   Prob(JB):                        0.257\n",
      "Kurtosis:                       3.505   Cond. No.                         504.\n",
      "==============================================================================\n",
      "\n",
      "Notes:\n",
      "[1] Standard Errors assume that the covariance matrix of the errors is correctly specified.\n"
     ]
    }
   ],
   "source": [
    "import statsmodels.api as sm\n",
    "import statsmodels.formula.api as smf\n",
    "\n",
    "df['lnc'] = np.log(df['c'])\n",
    "df['lnq'] = np.log(df['q'])\n",
    "df['lnpf'] = np.log(df['pf'])\n",
    "\n",
    "\n",
    "# Usamos patsy y statsmodels con fórmula\n",
    "model = smf.ols('lnc ~ lnq + lf + lnpf + C(id)', data=df).fit()\n",
    "print(model.summary())"
   ]
  },
  {
   "cell_type": "code",
   "execution_count": 10,
   "id": "af164770",
   "metadata": {},
   "outputs": [],
   "source": [
    "# La constante es la interpretación directa para la firma 1. "
   ]
  },
  {
   "cell_type": "code",
   "execution_count": 11,
   "id": "dd3c38e6",
   "metadata": {},
   "outputs": [
    {
     "data": {
      "text/plain": [
       "{'e1': array([ 0.02432919,  0.03943107,  0.0361558 ,  0.06326764,  0.03383255,\n",
       "        -0.03527942,  0.00501393, -0.00227683, -0.04424655, -0.07449206,\n",
       "        -0.02131798, -0.03653725, -0.03434179,  0.00372271,  0.042739  ]),\n",
       " 'e2': array([-0.10923203, -0.06401408, -0.05154175,  0.04937864, -0.02657994,\n",
       "        -0.03834923, -0.04274458, -0.02869517,  0.00099328, -0.02405765,\n",
       "        -0.03628389,  0.0167852 ,  0.07643585,  0.11203921,  0.16586613]),\n",
       " 'e3': array([-0.01960544,  0.04021187,  0.06468929,  0.06826004,  0.00621729,\n",
       "        -0.01833514, -0.06534268, -0.06725798, -0.01970372, -0.05083023,\n",
       "        -0.03362109,  0.02679329, -0.01241617,  0.03486742,  0.04607325]),\n",
       " 'e4': array([-0.15604118, -0.1124052 , -0.03959208, -0.00645815, -0.05179785,\n",
       "        -0.03847341, -0.01640768,  0.01686399,  0.09115261,  0.01158102,\n",
       "         0.00304268,  0.10066229,  0.15746305,  0.02248174,  0.01792816]),\n",
       " 'e5': array([ 0.02541318,  0.06836765,  0.09636187,  0.06912193, -0.03227485,\n",
       "        -0.01488569, -0.02429519, -0.03020774,  0.03494511, -0.08447687,\n",
       "        -0.04150258, -0.03818075, -0.03503091,  0.01164693, -0.00500209]),\n",
       " 'e6': array([-0.02990404,  0.02374234,  0.07505736,  0.09326304,  0.03702508,\n",
       "        -0.02980923, -0.02479168,  0.0283917 ,  0.08373746, -0.01214617,\n",
       "        -0.09169608, -0.09035987, -0.03280902, -0.03428485,  0.00458395])}"
      ]
     },
     "execution_count": 11,
     "metadata": {},
     "output_type": "execute_result"
    }
   ],
   "source": [
    "df['e'] = model.resid\n",
    "residual_vectors = {}\n",
    "a1, a2 = 0, 15\n",
    "\n",
    "for i in range(1, 7):\n",
    "    key = f\"e{i}\"\n",
    "    residual_vectors[key] = df['e'].iloc[a1:a2].to_numpy()\n",
    "    a1 += 15\n",
    "    a2 += 15\n",
    "\n",
    "\n",
    "residual_vectors"
   ]
  },
  {
   "cell_type": "code",
   "execution_count": 12,
   "id": "485fed5c",
   "metadata": {},
   "outputs": [
    {
     "name": "stdout",
     "output_type": "stream",
     "text": [
      "sigma1 = 0.0014794964812895254\n",
      "sigma2 = 0.004935781935074677\n",
      "sigma3 = 0.0018884325726703035\n",
      "sigma4 = 0.005834425258586821\n",
      "sigma5 = 0.002338333594424573\n",
      "sigma6 = 0.0030316786223437637\n"
     ]
    }
   ],
   "source": [
    "sigma = {}\n",
    "\n",
    "for i in range(1, 7):\n",
    "    e = residual_vectors[f\"e{i}\"].reshape(-1, 1)  # columna\n",
    "    sigma_matrix = (e.T @ e) / 15\n",
    "    sigma[f\"sigma{i}\"] = sigma_matrix[0, 0]  # escalar\n",
    "\n",
    "for i in range(1, 7):\n",
    "    print(f\"sigma{i} =\", sigma[f\"sigma{i}\"])"
   ]
  },
  {
   "cell_type": "code",
   "execution_count": 14,
   "id": "c3e3c2be",
   "metadata": {},
   "outputs": [
    {
     "name": "stdout",
     "output_type": "stream",
     "text": [
      "                            WLS Regression Results                            \n",
      "==============================================================================\n",
      "Dep. Variable:                    lnc   R-squared:                       0.998\n",
      "Model:                            WLS   Adj. R-squared:                  0.998\n",
      "Method:                 Least Squares   F-statistic:                     5527.\n",
      "Date:                Sun, 25 May 2025   Prob (F-statistic):          1.66e-107\n",
      "Time:                        17:11:26   Log-Likelihood:                 138.46\n",
      "No. Observations:                  90   AIC:                            -258.9\n",
      "Df Residuals:                      81   BIC:                            -236.4\n",
      "Df Model:                           8                                         \n",
      "Covariance Type:            nonrobust                                         \n",
      "==============================================================================\n",
      "                 coef    std err          t      P>|t|      [0.025      0.975]\n",
      "------------------------------------------------------------------------------\n",
      "const          9.9423      0.162     61.263      0.000       9.619      10.265\n",
      "lnq            0.9258      0.027     34.568      0.000       0.872       0.979\n",
      "lf            -1.2163      0.186     -6.554      0.000      -1.586      -0.847\n",
      "lnpf           0.4056      0.013     32.322      0.000       0.381       0.431\n",
      "id_2          -0.0460      0.024     -1.937      0.056      -0.093       0.001\n",
      "id_3          -0.2021      0.036     -5.591      0.000      -0.274      -0.130\n",
      "id_4           0.1905      0.055      3.454      0.001       0.081       0.300\n",
      "id_5           0.0372      0.070      0.528      0.599      -0.103       0.177\n",
      "id_6           0.0946      0.074      1.272      0.207      -0.053       0.243\n",
      "==============================================================================\n",
      "Omnibus:                        0.485   Durbin-Watson:                   1.203\n",
      "Prob(Omnibus):                  0.785   Jarque-Bera (JB):                0.633\n",
      "Skew:                           0.140   Prob(JB):                        0.729\n",
      "Kurtosis:                       2.699   Cond. No.                         523.\n",
      "==============================================================================\n",
      "\n",
      "Notes:\n",
      "[1] Standard Errors assume that the covariance matrix of the errors is correctly specified.\n"
     ]
    }
   ],
   "source": [
    "df['w'] = np.nan\n",
    "\n",
    "# Asignar pesos en bloques de 15 observaciones\n",
    "for i in range(6):\n",
    "    start = i * 15\n",
    "    end = start + 15\n",
    "    df.loc[start:end-1, 'w'] = sigma[f'sigma{i+1}']\n",
    "\n",
    "# Asegurarse de que 'id' es categórica\n",
    "df['id'] = df['id'].astype('category')\n",
    "\n",
    "# Crear dummies de 'id', excluyendo una categoría para evitar multicolinealidad\n",
    "dummies = pd.get_dummies(df['id'], prefix='id', drop_first=True)\n",
    "\n",
    "# Crear la matriz X\n",
    "X = pd.concat([df[['lnq', 'lf', 'lnpf']], dummies], axis=1)\n",
    "X = sm.add_constant(X)\n",
    "\n",
    "# Asegurar que X es numérica\n",
    "X = X.astype(float)\n",
    "\n",
    "# Variable dependiente\n",
    "y = df['lnc'].astype(float)\n",
    "\n",
    "# Pesos\n",
    "weights = (1 / df['w']).astype(float)\n",
    "\n",
    "# FGLS usando WLS (Weighted Least Squares)\n",
    "fgls_model = sm.WLS(y, X, weights=weights).fit()\n",
    "print(fgls_model.summary())"
   ]
  },
  {
   "cell_type": "code",
   "execution_count": null,
   "id": "dc8ad9bb",
   "metadata": {},
   "outputs": [
    {
     "name": "stdout",
     "output_type": "stream",
     "text": [
      "                            WLS Regression Results                            \n",
      "==============================================================================\n",
      "Dep. Variable:                    lnc   R-squared:                       0.998\n",
      "Model:                            WLS   Adj. R-squared:                  0.998\n",
      "Method:                 Least Squares   F-statistic:                     5527.\n",
      "Date:                Sun, 25 May 2025   Prob (F-statistic):          1.66e-107\n",
      "Time:                        17:14:17   Log-Likelihood:                 138.46\n",
      "No. Observations:                  90   AIC:                            -258.9\n",
      "Df Residuals:                      81   BIC:                            -236.4\n",
      "Df Model:                           8                                         \n",
      "Covariance Type:            nonrobust                                         \n",
      "==============================================================================\n",
      "                 coef    std err          t      P>|t|      [0.025      0.975]\n",
      "------------------------------------------------------------------------------\n",
      "Intercept      9.9423      0.162     61.263      0.000       9.619      10.265\n",
      "C(id)[T.2]    -0.0460      0.024     -1.937      0.056      -0.093       0.001\n",
      "C(id)[T.3]    -0.2021      0.036     -5.591      0.000      -0.274      -0.130\n",
      "C(id)[T.4]     0.1905      0.055      3.454      0.001       0.081       0.300\n",
      "C(id)[T.5]     0.0372      0.070      0.528      0.599      -0.103       0.177\n",
      "C(id)[T.6]     0.0946      0.074      1.272      0.207      -0.053       0.243\n",
      "lnq            0.9258      0.027     34.568      0.000       0.872       0.979\n",
      "lf            -1.2163      0.186     -6.554      0.000      -1.586      -0.847\n",
      "lnpf           0.4056      0.013     32.322      0.000       0.381       0.431\n",
      "==============================================================================\n",
      "Omnibus:                        0.485   Durbin-Watson:                   1.203\n",
      "Prob(Omnibus):                  0.785   Jarque-Bera (JB):                0.633\n",
      "Skew:                           0.140   Prob(JB):                        0.729\n",
      "Kurtosis:                       2.699   Cond. No.                         523.\n",
      "==============================================================================\n",
      "\n",
      "Notes:\n",
      "[1] Standard Errors assume that the covariance matrix of the errors is correctly specified.\n"
     ]
    }
   ],
   "source": [
    "# Pythonista.\n",
    "\n",
    "import numpy as np\n",
    "import pandas as pd\n",
    "import statsmodels.api as sm\n",
    "import statsmodels.formula.api as smf\n",
    "\n",
    "# --- Paso 1: Transformaciones logarítmicas ---\n",
    "df['lnc'] = np.log(df['c'])\n",
    "df['lnq'] = np.log(df['q'])\n",
    "df['lnpf'] = np.log(df['pf'])\n",
    "\n",
    "# --- Paso 2: OLS con fórmula estilo R ---\n",
    "model = smf.ols('lnc ~ lnq + lf + lnpf + C(id)', data=df).fit()\n",
    "df['e'] = model.resid\n",
    "\n",
    "# --- Paso 3: Calcular sigma_i como varianza de los residuos por bloque de 15 ---\n",
    "block_size = 15\n",
    "n_blocks = df.shape[0] // block_size\n",
    "sigmas = (\n",
    "    df['e']\n",
    "    .groupby(df.index // block_size)\n",
    "    .apply(lambda x: np.mean(x**2))\n",
    "    .to_dict()\n",
    ")\n",
    "\n",
    "# --- Paso 4: Asignar pesos ---\n",
    "df['w'] = df.index // block_size\n",
    "df['w'] = df['w'].map(sigmas)\n",
    "df['w'] = 1 / df['w']  # pesos inversos a la varianza\n",
    "\n",
    "# --- Paso 5: Crear matriz de diseño y ajustar WLS ---\n",
    "# Usamos fórmula nuevamente, ya que `WLS.from_formula()` lo permite\n",
    "fgls_model = smf.wls('lnc ~ lnq + lf + lnpf + C(id)', data=df, weights=df['w']).fit()\n",
    "print(fgls_model.summary())\n"
   ]
  },
  {
   "cell_type": "code",
   "execution_count": 16,
   "id": "82bf0cf7",
   "metadata": {},
   "outputs": [
    {
     "name": "stdout",
     "output_type": "stream",
     "text": [
      "                            WLS Regression Results                            \n",
      "==============================================================================\n",
      "Dep. Variable:                    lnc   R-squared:                       0.998\n",
      "Model:                            WLS   Adj. R-squared:                  0.998\n",
      "Method:                 Least Squares   F-statistic:                     5527.\n",
      "Date:                Sun, 25 May 2025   Prob (F-statistic):          1.66e-107\n",
      "Time:                        17:15:23   Log-Likelihood:                 138.46\n",
      "No. Observations:                  90   AIC:                            -258.9\n",
      "Df Residuals:                      81   BIC:                            -236.4\n",
      "Df Model:                           8                                         \n",
      "Covariance Type:            nonrobust                                         \n",
      "==============================================================================\n",
      "                 coef    std err          t      P>|t|      [0.025      0.975]\n",
      "------------------------------------------------------------------------------\n",
      "Intercept      9.9423      0.162     61.263      0.000       9.619      10.265\n",
      "C(id)[T.2]    -0.0460      0.024     -1.937      0.056      -0.093       0.001\n",
      "C(id)[T.3]    -0.2021      0.036     -5.591      0.000      -0.274      -0.130\n",
      "C(id)[T.4]     0.1905      0.055      3.454      0.001       0.081       0.300\n",
      "C(id)[T.5]     0.0372      0.070      0.528      0.599      -0.103       0.177\n",
      "C(id)[T.6]     0.0946      0.074      1.272      0.207      -0.053       0.243\n",
      "lnq            0.9258      0.027     34.568      0.000       0.872       0.979\n",
      "lf            -1.2163      0.186     -6.554      0.000      -1.586      -0.847\n",
      "lnpf           0.4056      0.013     32.322      0.000       0.381       0.431\n",
      "==============================================================================\n",
      "Omnibus:                        0.485   Durbin-Watson:                   1.203\n",
      "Prob(Omnibus):                  0.785   Jarque-Bera (JB):                0.633\n",
      "Skew:                           0.140   Prob(JB):                        0.729\n",
      "Kurtosis:                       2.699   Cond. No.                         523.\n",
      "==============================================================================\n",
      "\n",
      "Notes:\n",
      "[1] Standard Errors assume that the covariance matrix of the errors is correctly specified.\n"
     ]
    }
   ],
   "source": [
    "def run_fgls(df, formula, group_size=15):\n",
    "    df = df.copy()\n",
    "    model = smf.ols(formula, data=df).fit()\n",
    "    df['resid'] = model.resid\n",
    "\n",
    "    sigmas = (\n",
    "        df['resid']\n",
    "        .groupby(df.index // group_size)\n",
    "        .apply(lambda x: np.mean(x**2))\n",
    "        .to_dict()\n",
    "    )\n",
    "\n",
    "    df['w'] = df.index // group_size\n",
    "    df['w'] = df['w'].map(sigmas)\n",
    "    df['w'] = 1 / df['w']\n",
    "\n",
    "    fgls_model = smf.wls(formula, data=df, weights=df['w']).fit()\n",
    "    return fgls_model\n",
    "\n",
    "\n",
    "model = run_fgls(df, 'lnc ~ lnq + lf + lnpf + C(id)')\n",
    "print(model.summary())"
   ]
  },
  {
   "cell_type": "code",
   "execution_count": 17,
   "id": "fe4042de",
   "metadata": {},
   "outputs": [
    {
     "name": "stdout",
     "output_type": "stream",
     "text": [
      "                            WLS Regression Results                            \n",
      "==============================================================================\n",
      "Dep. Variable:                    lnc   R-squared:                       0.998\n",
      "Model:                            WLS   Adj. R-squared:                  0.998\n",
      "Method:                 Least Squares   F-statistic:                     4531.\n",
      "Date:                Sun, 25 May 2025   Prob (F-statistic):          5.09e-104\n",
      "Time:                        17:19:02   Log-Likelihood:                 133.03\n",
      "No. Observations:                  90   AIC:                            -248.1\n",
      "Df Residuals:                      81   BIC:                            -225.6\n",
      "Df Model:                           8                                         \n",
      "Covariance Type:            nonrobust                                         \n",
      "==============================================================================\n",
      "                 coef    std err          t      P>|t|      [0.025      0.975]\n",
      "------------------------------------------------------------------------------\n",
      "Intercept      9.8414      0.177     55.649      0.000       9.489      10.193\n",
      "C(id)[T.2]    -0.0387      0.024     -1.596      0.114      -0.087       0.010\n",
      "C(id)[T.3]    -0.1929      0.041     -4.739      0.000      -0.274      -0.112\n",
      "C(id)[T.4]     0.2083      0.059      3.534      0.001       0.091       0.325\n",
      "C(id)[T.5]     0.0572      0.078      0.733      0.466      -0.098       0.212\n",
      "C(id)[T.6]     0.1208      0.083      1.464      0.147      -0.043       0.285\n",
      "lnq            0.9323      0.030     31.574      0.000       0.874       0.991\n",
      "lf            -1.1151      0.199     -5.600      0.000      -1.511      -0.719\n",
      "lnpf           0.4086      0.014     28.885      0.000       0.380       0.437\n",
      "==============================================================================\n",
      "Omnibus:                        1.996   Durbin-Watson:                   1.054\n",
      "Prob(Omnibus):                  0.369   Jarque-Bera (JB):                1.371\n",
      "Skew:                           0.227   Prob(JB):                        0.504\n",
      "Kurtosis:                       3.399   Cond. No.                         508.\n",
      "==============================================================================\n",
      "\n",
      "Notes:\n",
      "[1] Standard Errors assume that the covariance matrix of the errors is correctly specified.\n"
     ]
    }
   ],
   "source": [
    "import numpy as np\n",
    "import pandas as pd\n",
    "import statsmodels.api as sm\n",
    "import statsmodels.formula.api as smf\n",
    "\n",
    "# 1. Modelo inicial OLS\n",
    "df['lnc'] = np.log(df['c'])\n",
    "df['lnq'] = np.log(df['q'])\n",
    "df['lnpf'] = np.log(df['pf'])\n",
    "\n",
    "model = smf.ols('lnc ~ lnq + lf + lnpf + C(id)', data=df).fit()\n",
    "df['e'] = model.resid\n",
    "\n",
    "# 2. Estimar varianza log-lineal por grupo (Harvey)\n",
    "df['ln_e2'] = np.log(df['e']**2)\n",
    "\n",
    "# Regresión de ln(e^2) ~ efectos fijos de grupo\n",
    "var_model = smf.ols('ln_e2 ~ C(id)', data=df).fit()\n",
    "df['ln_v'] = var_model.fittedvalues\n",
    "\n",
    "# 3. Obtener pesos FGLS: v = exp(ln_v)\n",
    "df['v'] = np.exp(df['ln_v'])\n",
    "\n",
    "# 4. Estimación FGLS con pesos = 1/v\n",
    "fgls_model = smf.wls('lnc ~ lnq + lf + lnpf + C(id)', data=df, weights=1/df['v']).fit()\n",
    "\n",
    "print(fgls_model.summary())"
   ]
  },
  {
   "cell_type": "code",
   "execution_count": 18,
   "id": "090b9e0a",
   "metadata": {},
   "outputs": [
    {
     "name": "stdout",
     "output_type": "stream",
     "text": [
      "Intercepto corregido de Harvey: -6.2137\n"
     ]
    }
   ],
   "source": [
    "# Ajuste de intercepto (opcional, informativo)\n",
    "intercepto_crudo = var_model.params['Intercept']\n",
    "intercepto_corregido = intercepto_crudo + 1.2704\n",
    "print(f\"Intercepto corregido de Harvey: {intercepto_corregido:.4f}\")"
   ]
  },
  {
   "cell_type": "code",
   "execution_count": null,
   "id": "e8f3829a",
   "metadata": {},
   "outputs": [],
   "source": [
    "# min. 1:17."
   ]
  }
 ],
 "metadata": {
  "kernelspec": {
   "display_name": "Python 3",
   "language": "python",
   "name": "python3"
  },
  "language_info": {
   "codemirror_mode": {
    "name": "ipython",
    "version": 3
   },
   "file_extension": ".py",
   "mimetype": "text/x-python",
   "name": "python",
   "nbconvert_exporter": "python",
   "pygments_lexer": "ipython3",
   "version": "3.12.2"
  }
 },
 "nbformat": 4,
 "nbformat_minor": 5
}
