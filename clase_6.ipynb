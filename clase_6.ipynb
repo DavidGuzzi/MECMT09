{
 "cells": [
  {
   "cell_type": "code",
   "execution_count": 1,
   "id": "2f913f03",
   "metadata": {},
   "outputs": [],
   "source": [
    "# Ver repaso primeros minutos."
   ]
  },
  {
   "cell_type": "code",
   "execution_count": 15,
   "id": "2ae32e59",
   "metadata": {},
   "outputs": [
    {
     "data": {
      "text/html": [
       "<div>\n",
       "<style scoped>\n",
       "    .dataframe tbody tr th:only-of-type {\n",
       "        vertical-align: middle;\n",
       "    }\n",
       "\n",
       "    .dataframe tbody tr th {\n",
       "        vertical-align: top;\n",
       "    }\n",
       "\n",
       "    .dataframe thead th {\n",
       "        text-align: right;\n",
       "    }\n",
       "</style>\n",
       "<table border=\"1\" class=\"dataframe\">\n",
       "  <thead>\n",
       "    <tr style=\"text-align: right;\">\n",
       "      <th></th>\n",
       "      <th>c1</th>\n",
       "      <th>ind</th>\n",
       "      <th>year</th>\n",
       "      <th>emp</th>\n",
       "      <th>wage</th>\n",
       "      <th>cap</th>\n",
       "      <th>indoutpt</th>\n",
       "      <th>n</th>\n",
       "      <th>w</th>\n",
       "      <th>k</th>\n",
       "      <th>ys</th>\n",
       "      <th>rec</th>\n",
       "      <th>yearm1</th>\n",
       "      <th>id</th>\n",
       "      <th>nL1</th>\n",
       "      <th>nL2</th>\n",
       "      <th>wL1</th>\n",
       "      <th>kL1</th>\n",
       "      <th>kL2</th>\n",
       "      <th>ysL1</th>\n",
       "      <th>ysL2</th>\n",
       "      <th>yr1977</th>\n",
       "      <th>yr1978</th>\n",
       "      <th>yr1979</th>\n",
       "      <th>yr1980</th>\n",
       "      <th>yr1981</th>\n",
       "      <th>yr1982</th>\n",
       "    </tr>\n",
       "  </thead>\n",
       "  <tbody>\n",
       "    <tr>\n",
       "      <th>0</th>\n",
       "      <td>1-1</td>\n",
       "      <td>7.0</td>\n",
       "      <td>1977</td>\n",
       "      <td>5.041</td>\n",
       "      <td>13.1516</td>\n",
       "      <td>0.5894</td>\n",
       "      <td>95.707199</td>\n",
       "      <td>1.617604</td>\n",
       "      <td>2.576543</td>\n",
       "      <td>-0.52865</td>\n",
       "      <td>4.561294</td>\n",
       "      <td>1.0</td>\n",
       "      <td>1977.0</td>\n",
       "      <td>1.0</td>\n",
       "      <td>NaN</td>\n",
       "      <td>NaN</td>\n",
       "      <td>NaN</td>\n",
       "      <td>NaN</td>\n",
       "      <td>NaN</td>\n",
       "      <td>NaN</td>\n",
       "      <td>NaN</td>\n",
       "      <td>1</td>\n",
       "      <td>0</td>\n",
       "      <td>0</td>\n",
       "      <td>0</td>\n",
       "      <td>0</td>\n",
       "      <td>0</td>\n",
       "    </tr>\n",
       "  </tbody>\n",
       "</table>\n",
       "</div>"
      ],
      "text/plain": [
       "    c1  ind  year    emp     wage     cap   indoutpt         n         w  \\\n",
       "0  1-1  7.0  1977  5.041  13.1516  0.5894  95.707199  1.617604  2.576543   \n",
       "\n",
       "         k        ys  rec  yearm1   id  nL1  nL2  wL1  kL1  kL2  ysL1  ysL2  \\\n",
       "0 -0.52865  4.561294  1.0  1977.0  1.0  NaN  NaN  NaN  NaN  NaN   NaN   NaN   \n",
       "\n",
       "   yr1977  yr1978  yr1979  yr1980  yr1981  yr1982  \n",
       "0       1       0       0       0       0       0  "
      ]
     },
     "execution_count": 15,
     "metadata": {},
     "output_type": "execute_result"
    }
   ],
   "source": [
    "import pandas as pd\n",
    "pd.set_option('display.max_columns', None)\n",
    "import pyreadstat as st\n",
    "import numpy as np\n",
    "import matplotlib.pyplot as plt\n",
    "\n",
    "\n",
    "path = r\"C:\\Users\\HP\\OneDrive\\Escritorio\\David Guzzi\\DiTella\\MEC\\Materias\\2025\\2025 1T\\[MT09] Econometría de Datos de Panel\\Clases prácticas\\PS 3-20250531\\data\\mod_abdata.dta\"\n",
    "\n",
    "df, meta = st.read_dta(path)\n",
    "df['year'] = df['year'].astype('int')\n",
    "df.head(1)"
   ]
  },
  {
   "cell_type": "code",
   "execution_count": 3,
   "id": "80ddb3a5",
   "metadata": {},
   "outputs": [
    {
     "name": "stdout",
     "output_type": "stream",
     "text": [
      "<class 'pandas.core.frame.DataFrame'>\n",
      "RangeIndex: 828 entries, 0 to 827\n",
      "Data columns (total 27 columns):\n",
      " #   Column    Non-Null Count  Dtype  \n",
      "---  ------    --------------  -----  \n",
      " 0   c1        828 non-null    object \n",
      " 1   ind       828 non-null    float64\n",
      " 2   year      828 non-null    float64\n",
      " 3   emp       828 non-null    float64\n",
      " 4   wage      828 non-null    float64\n",
      " 5   cap       828 non-null    float64\n",
      " 6   indoutpt  828 non-null    float64\n",
      " 7   n         828 non-null    float64\n",
      " 8   w         828 non-null    float64\n",
      " 9   k         828 non-null    float64\n",
      " 10  ys        828 non-null    float64\n",
      " 11  rec       828 non-null    float64\n",
      " 12  yearm1    828 non-null    float64\n",
      " 13  id        828 non-null    float64\n",
      " 14  nL1       770 non-null    float64\n",
      " 15  nL2       632 non-null    float64\n",
      " 16  wL1       770 non-null    float64\n",
      " 17  kL1       770 non-null    float64\n",
      " 18  kL2       632 non-null    float64\n",
      " 19  ysL1      770 non-null    float64\n",
      " 20  ysL2      632 non-null    float64\n",
      " 21  yr1977    828 non-null    int64  \n",
      " 22  yr1978    828 non-null    int64  \n",
      " 23  yr1979    828 non-null    int64  \n",
      " 24  yr1980    828 non-null    int64  \n",
      " 25  yr1981    828 non-null    int64  \n",
      " 26  yr1982    828 non-null    int64  \n",
      "dtypes: float64(20), int64(6), object(1)\n",
      "memory usage: 174.8+ KB\n"
     ]
    }
   ],
   "source": [
    "df.info()"
   ]
  },
  {
   "cell_type": "markdown",
   "id": "53971724",
   "metadata": {},
   "source": [
    "#### **a) POLS con errores estándar robustos.**"
   ]
  },
  {
   "cell_type": "code",
   "execution_count": 31,
   "id": "7932ee29",
   "metadata": {},
   "outputs": [
    {
     "name": "stdout",
     "output_type": "stream",
     "text": [
      "                          PooledOLS Estimation Summary                          \n",
      "================================================================================\n",
      "Dep. Variable:                      n   R-squared:                        0.9948\n",
      "Estimator:                  PooledOLS   R-squared (Between):              0.9989\n",
      "No. Observations:                 632   R-squared (Within):               0.7224\n",
      "Date:                Sat, Jun 28 2025   R-squared (Overall):              0.9948\n",
      "Time:                        19:44:36   Log-likelihood                    573.37\n",
      "Cov. Estimator:             Clustered                                           \n",
      "                                        F-statistic:                      8456.1\n",
      "Entities:                         138   P-value                           0.0000\n",
      "Avg Obs:                       4.5797   Distribution:                  F(14,617)\n",
      "Min Obs:                       4.0000                                           \n",
      "Max Obs:                       5.0000   F-statistic (robust):          1.513e+04\n",
      "                                        P-value                           0.0000\n",
      "Time periods:                       5   Distribution:                  F(14,617)\n",
      "Avg Obs:                       126.40                                           \n",
      "Min Obs:                       80.000                                           \n",
      "Max Obs:                       138.00                                           \n",
      "                                                                                \n",
      "                             Parameter Estimates                              \n",
      "==============================================================================\n",
      "            Parameter  Std. Err.     T-stat    P-value    Lower CI    Upper CI\n",
      "------------------------------------------------------------------------------\n",
      "const         -0.1256     0.2812    -0.4465     0.6554     -0.6778      0.4266\n",
      "nL1            1.0837     0.0478     22.653     0.0000      0.9897      1.1776\n",
      "nL2           -0.1204     0.0431    -2.7918     0.0054     -0.2051     -0.0357\n",
      "w             -0.4315     0.1856    -2.3244     0.0204     -0.7960     -0.0669\n",
      "wL1            0.3933     0.1802     2.1829     0.0294      0.0395      0.7472\n",
      "k              0.3215     0.0545     5.8968     0.0000      0.2144      0.4285\n",
      "kL1           -0.2087     0.0673    -3.1028     0.0020     -0.3408     -0.0766\n",
      "kL2           -0.0812     0.0307    -2.6436     0.0084     -0.1414     -0.0209\n",
      "ys             0.5157     0.1858     2.7761     0.0057      0.1509      0.8805\n",
      "ysL1          -0.7066     0.2737    -2.5813     0.0101     -1.2441     -0.1690\n",
      "ysL2           0.2489     0.1447     1.7206     0.0858     -0.0352      0.5331\n",
      "yr1978         0.0017     0.0217     0.0803     0.9360     -0.0409      0.0444\n",
      "yr1979         0.0179     0.0198     0.9021     0.3674     -0.0210      0.0567\n",
      "yr1980         0.0285     0.0180     1.5830     0.1139     -0.0069      0.0639\n",
      "yr1981        -0.0094     0.0160    -0.5888     0.5562     -0.0409      0.0220\n",
      "==============================================================================\n"
     ]
    },
    {
     "name": "stderr",
     "output_type": "stream",
     "text": [
      "c:\\Users\\HP\\AppData\\Local\\Programs\\Python\\Python312\\Lib\\site-packages\\linearmodels\\panel\\model.py:921: MissingValueWarning: \n",
      "Inputs contain missing values. Dropping rows with missing observations.\n",
      "  super().__init__(dependent, exog, weights=weights, check_rank=check_rank)\n"
     ]
    }
   ],
   "source": [
    "import statsmodels.api as sm\n",
    "from linearmodels.panel import PooledOLS\n",
    "\n",
    "\n",
    "df_1 = df.set_index(['id', 'year'])\n",
    "\n",
    "# X: todas las explicativas, incluyendo las yr*\n",
    "X_vars = ['nL1', 'nL2', 'w', 'wL1', 'k', 'kL1', 'kL2', 'ys', 'ysL1', 'ysL2']\n",
    "yr_vars = sorted([col for col in df_1.columns if col.startswith('yr')])\n",
    "yr_vars = yr_vars[1:-1]  # eliminar la primera y última dummy automáticamente\n",
    "X = df_1[X_vars + yr_vars]\n",
    "\n",
    "# Agregar constante\n",
    "X = sm.add_constant(X)\n",
    "\n",
    "# Variable dependiente\n",
    "y = df_1['n']\n",
    "\n",
    "model = PooledOLS(y, X)\n",
    "results = model.fit(cov_type='clustered', cluster_entity=True)\n",
    "\n",
    "print(results.summary)"
   ]
  },
  {
   "cell_type": "markdown",
   "id": "93b12482",
   "metadata": {},
   "source": [
    "#### **b) FE con errores estándar robustos.**"
   ]
  },
  {
   "cell_type": "markdown",
   "id": "221aab38",
   "metadata": {},
   "source": []
  }
 ],
 "metadata": {
  "kernelspec": {
   "display_name": "Python 3",
   "language": "python",
   "name": "python3"
  },
  "language_info": {
   "codemirror_mode": {
    "name": "ipython",
    "version": 3
   },
   "file_extension": ".py",
   "mimetype": "text/x-python",
   "name": "python",
   "nbconvert_exporter": "python",
   "pygments_lexer": "ipython3",
   "version": "3.12.2"
  }
 },
 "nbformat": 4,
 "nbformat_minor": 5
}
